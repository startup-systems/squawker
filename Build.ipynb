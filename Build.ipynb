{
 "cells": [
  {
   "cell_type": "code",
   "execution_count": null,
   "metadata": {
    "collapsed": true
   },
   "outputs": [],
   "source": [
    "#flask template: jinja2\n",
    "#html form\n",
    "#change/addition of routes in flask\n",
    "sqllite3 CLI\n"
   ]
  },
  {
   "cell_type": "code",
   "execution_count": 1,
   "metadata": {
    "collapsed": true
   },
   "outputs": [],
   "source": [
    "import sqlite3\n",
    "conn = sqlite3.connect('example.db')"
   ]
  },
  {
   "cell_type": "code",
   "execution_count": 8,
   "metadata": {
    "collapsed": false
   },
   "outputs": [],
   "source": [
    "from flask import render_template\n",
    "from flask import Flask\n",
    "from flask import request\n",
    "from flask import jsonify\n",
    "from random import randint\n",
    "#from sendgrid import Mail\n",
    "#from sendgrid import SendGridClient\n",
    "\n",
    "app = Flask(__name__)\n",
    "app.debug=True"
   ]
  },
  {
   "cell_type": "code",
   "execution_count": 9,
   "metadata": {
    "collapsed": false
   },
   "outputs": [],
   "source": [
    "squawks=[]\n",
    "\n",
    "@app.route('/squawk', methods=['POST', 'GET'])\n",
    "def create():\n",
    "  if request.method == 'POST':\n",
    "    add_squawk = {\"id\": randint(),\"text\": request.form['squawk']}\n",
    "    squawks.append(add_squawk)\n",
    "    return jsonify(add_squawk)\n",
    "  else:\n",
    "    return jsonify({\"squawks\": squawks})"
   ]
  },
  {
   "cell_type": "code",
   "execution_count": 11,
   "metadata": {
    "collapsed": true
   },
   "outputs": [],
   "source": [
    "@app.route('/squawk/<int:id>', methods=['PUT', 'GET', 'DELETE'])\n",
    "def each_squawk(id):\n",
    "  for squawk in squawks:\n",
    "    if squawk['id'] == id:\n",
    "      if request.method == 'GET':\n",
    "        return jsonify(squawk)\n",
    "      elif request.method == 'PUT':\n",
    "        tweet['squawk'] = request.form('squawk')\n",
    "        return jsonify(squawk)\n",
    "      else:\n",
    "        remove = squawk\n",
    "        tweets.remove(squawk)\n",
    "        return jsonify(squawk)\n",
    "  return jsonify({\"error\": \"Squawk Not Found\"})"
   ]
  },
  {
   "cell_type": "code",
   "execution_count": null,
   "metadata": {
    "collapsed": true
   },
   "outputs": [],
   "source": [
    "DATABASE = 'tweepee.db'\n",
    "\n",
    "# Create a database instance that will manage the connection and\n",
    "# execute queries\n",
    "database = SqliteDatabase(DATABASE, threadlocals=True)"
   ]
  },
  {
   "cell_type": "code",
   "execution_count": null,
   "metadata": {
    "collapsed": true
   },
   "outputs": [],
   "source": [
    "if __name__ == '__main__':\n",
    "  app.run()"
   ]
  },
  {
   "cell_type": "code",
   "execution_count": null,
   "metadata": {
    "collapsed": true
   },
   "outputs": [],
   "source": []
  },
  {
   "cell_type": "code",
   "execution_count": null,
   "metadata": {
    "collapsed": true
   },
   "outputs": [],
   "source": []
  }
 ],
 "metadata": {
  "kernelspec": {
   "display_name": "Python [Root]",
   "language": "python",
   "name": "Python [Root]"
  },
  "language_info": {
   "codemirror_mode": {
    "name": "ipython",
    "version": 3
   },
   "file_extension": ".py",
   "mimetype": "text/x-python",
   "name": "python",
   "nbconvert_exporter": "python",
   "pygments_lexer": "ipython3",
   "version": "3.5.2"
  }
 },
 "nbformat": 4,
 "nbformat_minor": 0
}
